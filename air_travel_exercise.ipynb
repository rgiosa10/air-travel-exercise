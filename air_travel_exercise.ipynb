{
 "cells": [
  {
   "cell_type": "markdown",
   "metadata": {},
   "source": [
    "## Exercise\n",
    "\n",
    "Write a data pipeline that ingests the source data into a **fact** called `air_travel_passengers` with two supporting **dimensions** as `airlines` and `airports`.\n",
    "\n",
    "To load the dimension tables, lookup additional columns from the supporting files: `global_airlines.csv` and `global_airports.csv`\n",
    "\n",
    "<br>\n",
    "\n",
    "Your data pipeline should look similar to:\n",
    "\n",
    "<img src=\"./imgs/dm_air_travel_exercise.jpg\" alt=\"Air Travel Pipeline\" width=\"700\" />\n",
    "\n",
    "<br>\n",
    "\n",
    "Your pipeline must meet the following requirements:\n",
    "\n",
    "1. _airlines_ dimension:\n",
    "    - Looking up additional airline columns such as iata and icao codes, callsign, and country\n",
    "    - Generate a new airline_id by **hashing** the airline name\n",
    "1. _airports_ dimension:\n",
    "    - Using the airport iata code, look up additional column such as: airport lat/lon, icao code, and timezone information\n",
    "    - Set the iata code as the airport_id column\n",
    "1. _air\\_travel\\_passengers_ fact:\n",
    "    - Look up both airline_id and airport_id from their dimension tables\n",
    "    - Add a new column called _report\\_date_ set to the 1st of the report month/year (as date data type)\n",
    "    - Create a fact_id by hashing a **composite key** of: airline name, src, dest, year, and month\n",
    "\n",
    "<br>"
   ]
  },
  {
   "cell_type": "markdown",
   "metadata": {},
   "source": [
    "### Data Model\n",
    "\n",
    "Using draw.io, create a data model of your target tables. You must show at least three final tables: `air_travel_passengers`, `airlines`, and `airports`\n",
    "\n",
    "See data model below:\n",
    "\n",
    "<img src=\"./imgs/us_monthly_air_passangers.drawio.png\" alt=\"Air Travel Pipeline\" width=\"400\" />\n"
   ]
  },
  {
   "cell_type": "markdown",
   "metadata": {},
   "source": [
    "### Data Pipeline\n",
    "\n",
    "Develope your pipeline code. We recommend breaking down the pipeline into the following sections (code cells):"
   ]
  },
  {
   "cell_type": "code",
   "execution_count": null,
   "metadata": {},
   "outputs": [
    {
     "ename": "",
     "evalue": "",
     "output_type": "error",
     "traceback": [
      "\u001b[1;31mRunning cells with 'Python 3.10.8 64-bit' requires ipykernel package.\n",
      "\u001b[1;31mRun the following command to install 'ipykernel' into the Python environment. \n",
      "\u001b[1;31mCommand: '/usr/local/bin/python3.10 -m pip install ipykernel -U --user --force-reinstall'"
     ]
    }
   ],
   "source": [
    "import os\n",
    "import sys\n",
    "import pandas as pd\n",
    "import logging\n",
    "from google.cloud import bigquery\n",
    "from hashlib import md5\n",
    "from typing import List\n",
    "\n",
    "# **** SETUP ****\n",
    "\n",
    "# change to match your filesystem\n",
    "DATA_DIR = \"../data/air_travel/\"\n",
    "DEFAULT_RECEIPTS_FILE = os.path.join(DATA_DIR, \"us_monthly_air_passengers_sample.csv\")\n",
    "# change to match your gcloud project \n",
    "PROJECT_NAME = \"deb-01-371820\"\n",
    "DATASET_NAME = \"us_monthly_air_passengers\"\n",
    "\n",
    "# **** TABLE SCHEMAS ****\n",
    "\n",
    "TABLE_METADATA = {\n",
    "    'airlines': {\n",
    "        'table_name': 'airlines',\n",
    "        'schema': [\n",
    "            # indexes are written if only named in the schema\n",
    "            bigquery.SchemaField('airline_id', 'string', mode='REQUIRED'),\n",
    "            bigquery.SchemaField('carrier_name', 'string', mode='REQUIRED'),\n",
    "            bigquery.SchemaField('iata', 'string', mode='NULLABLE'),\n",
    "            bigquery.SchemaField('icao', 'string', mode='NULLABLE'),\n",
    "            bigquery.SchemaField('callsign', 'string', mode='NULLABLE'),\n",
    "            bigquery.SchemaField('country', 'string', mode='NULLABLE'),\n",
    "        ],\n",
    "    },\n",
    "    'airports': {\n",
    "        'table_name': 'airports',\n",
    "        'schema': [\n",
    "            # indexes are written if only named in the schema\n",
    "            bigquery.SchemaField('airport_id', 'string', mode='REQUIRED'),\n",
    "            bigquery.SchemaField('name', 'string', mode='NULLABLE'),\n",
    "            bigquery.SchemaField('city', 'string', mode='NULLABLE'),\n",
    "            bigquery.SchemaField('country', 'string', mode='NULLABLE'),\n",
    "            bigquery.SchemaField('icao', 'string', mode='NULLABLE'),\n",
    "            bigquery.SchemaField('latitude', 'float', mode='NULLABLE'),\n",
    "            bigquery.SchemaField('longitude', 'float', mode='NULLABLE'),\n",
    "        ],\n",
    "    },\n",
    "}\n",
    "\n",
    "filename = DEFAULT_RECEIPTS_FILE"
   ]
  }
 ],
 "metadata": {
  "kernelspec": {
   "display_name": "Python 3.10.8 64-bit",
   "language": "python",
   "name": "python3"
  },
  "language_info": {
   "name": "python",
   "version": "3.10.8"
  },
  "orig_nbformat": 4,
  "vscode": {
   "interpreter": {
    "hash": "7e1998ff7f8aa20ada591c520b972326324e5ea05489af9e422744c7c09f6dad"
   }
  }
 },
 "nbformat": 4,
 "nbformat_minor": 2
}
